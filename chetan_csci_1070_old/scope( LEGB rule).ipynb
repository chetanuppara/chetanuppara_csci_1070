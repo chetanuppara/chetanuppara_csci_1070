{
 "cells": [
  {
   "cell_type": "code",
   "execution_count": 1,
   "id": "b9caf55c-146a-40f3-b876-9410ada0a139",
   "metadata": {},
   "outputs": [],
   "source": [
    "#Local: only available to other in the other scope; function for example only has an access to the names defined in the function or passed into it via arguemnts\n"
   ]
  },
  {
   "cell_type": "code",
   "execution_count": 3,
   "id": "96aad670-ba89-4e52-90bd-8791d83d60e8",
   "metadata": {},
   "outputs": [],
   "source": [
    "#Enclosing: only exists for nested functions. Inner nests can have access to the names in the outer nests \n",
    "#global: available to all your code and can pass through modules, and classes. \n",
    "#builtins: all names that are created by the python when you run a script."
   ]
  },
  {
   "cell_type": "code",
   "execution_count": 31,
   "id": "1940ac9c-9e72-42c9-b938-71e1397537ee",
   "metadata": {},
   "outputs": [
    {
     "ename": "SyntaxError",
     "evalue": "invalid syntax (3672363256.py, line 3)",
     "output_type": "error",
     "traceback": [
      "\u001b[0;36m  Cell \u001b[0;32mIn[31], line 3\u001b[0;36m\u001b[0m\n\u001b[0;31m    def_init_(self):\u001b[0m\n\u001b[0m                   ^\u001b[0m\n\u001b[0;31mSyntaxError\u001b[0m\u001b[0;31m:\u001b[0m invalid syntax\n"
     ]
    }
   ],
   "source": [
    "# python constructor: constructors get created when you create an instance of a class. \n",
    "#default constructor\n",
    "def_init_(self):\n",
    "   self.var = 0 \n",
    "#anytime u run the instance even if you didnt mention it, the default constuctor will run "
   ]
  },
  {
   "cell_type": "code",
   "execution_count": 33,
   "id": "c8f19300-693f-4ae5-867e-2a0b8a38b568",
   "metadata": {},
   "outputs": [
    {
     "ename": "SyntaxError",
     "evalue": "expected ':' (3028415800.py, line 1)",
     "output_type": "error",
     "traceback": [
      "\u001b[0;36m  Cell \u001b[0;32mIn[33], line 1\u001b[0;36m\u001b[0m\n\u001b[0;31m    class a_sample_class\u001b[0m\n\u001b[0m                        ^\u001b[0m\n\u001b[0;31mSyntaxError\u001b[0m\u001b[0;31m:\u001b[0m expected ':'\n"
     ]
    }
   ],
   "source": [
    "class a_sample_class\n",
    " class_attr = 5\n",
    "\n",
    "           def_init_(self, one, two):\n",
    "           self.first = one \n",
    "           self.second = second \n",
    "obj = a_sample_class(17,42)\n",
    "print(obj.first)\n",
    "print(obj.class_attr)"
   ]
  },
  {
   "cell_type": "code",
   "execution_count": 35,
   "id": "daf16c62-2376-4e12-a5ab-96885ef1b574",
   "metadata": {},
   "outputs": [
    {
     "ename": "SyntaxError",
     "evalue": "invalid syntax (1582817504.py, line 2)",
     "output_type": "error",
     "traceback": [
      "\u001b[0;36m  Cell \u001b[0;32mIn[35], line 2\u001b[0;36m\u001b[0m\n\u001b[0;31m    2 scopes for attributes\u001b[0m\n\u001b[0m      ^\u001b[0m\n\u001b[0;31mSyntaxError\u001b[0m\u001b[0;31m:\u001b[0m invalid syntax\n"
     ]
    }
   ],
   "source": [
    "# instance attributes(variables toa class) and class attributes \n",
    "2 scopes for attributes\n",
    "instance attributes = variable that belongs to a specific instance of instantiation. \n",
    "class attribute = type of variable that belongs to the class itself \n",
    "# globals = returning the current module namespace \n",
    "# namespace = mapping between objects "
   ]
  },
  {
   "cell_type": "markdown",
   "id": "90a0550f-9d99-4e95-b1a7-1e6f3a98fb68",
   "metadata": {},
   "source": [
    "# instance, class, and static methods"
   ]
  },
  {
   "cell_type": "code",
   "execution_count": 43,
   "id": "9e02ba25-4fbe-411d-934c-98ac4b4b9606",
   "metadata": {},
   "outputs": [
    {
     "ename": "SyntaxError",
     "evalue": "incomplete input (1467635504.py, line 17)",
     "output_type": "error",
     "traceback": [
      "\u001b[0;36m  Cell \u001b[0;32mIn[43], line 17\u001b[0;36m\u001b[0m\n\u001b[0;31m    def display(self):\u001b[0m\n\u001b[0m                      ^\u001b[0m\n\u001b[0;31mSyntaxError\u001b[0m\u001b[0;31m:\u001b[0m incomplete input\n"
     ]
    }
   ],
   "source": [
    "class candy:\n",
    "    #variables that start with a single underscore are required for internal purposes \n",
    "    def __init__(self, _brand,\n",
    "                _is_caramel=False, \n",
    "                _is_chocolate=False, \n",
    "                _is_vegan=False,\n",
    "                _has_nuts=False,\n",
    "                _type='chocolate',\n",
    "                _calories=200):\n",
    "        self.is_caramel = _is_caramel\n",
    "        self.is_chocolate = _is_chocolate\n",
    "        self.is_vegan = _is_vegan\n",
    "        self.has_nuts = _has_nuts\n",
    "        @classmethod\n",
    "        def snickers(cls):\n",
    "            return cls('Mars' ,_is_caramel=True, _has_nuts=True)\n",
    "            def display(self):"
   ]
  },
  {
   "cell_type": "code",
   "execution_count": 3,
   "id": "4db899d2-9ab8-449d-b4b7-3b02e95a853e",
   "metadata": {},
   "outputs": [],
   "source": [
    "#static method - used for comparision "
   ]
  },
  {
   "cell_type": "code",
   "execution_count": null,
   "id": "894a69b0-5f8a-48eb-aa68-c86013d9b022",
   "metadata": {},
   "outputs": [],
   "source": [
    "# encapsulation: implementation details are hidden or encapsulated in objects \n",
    "# Intheritance: child class can inherit from parent classes and modules \n",
    "# polymoprphism: objects and names exist in many forms. so, the same attribute or method can exist in classes and mean overview"
   ]
  }
 ],
 "metadata": {
  "kernelspec": {
   "display_name": "Python 3 (ipykernel)",
   "language": "python",
   "name": "python3"
  },
  "language_info": {
   "codemirror_mode": {
    "name": "ipython",
    "version": 3
   },
   "file_extension": ".py",
   "mimetype": "text/x-python",
   "name": "python",
   "nbconvert_exporter": "python",
   "pygments_lexer": "ipython3",
   "version": "3.12.4"
  }
 },
 "nbformat": 4,
 "nbformat_minor": 5
}
