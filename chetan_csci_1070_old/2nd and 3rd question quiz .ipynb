{
 "cells": [
  {
   "cell_type": "code",
   "execution_count": 8,
   "id": "1d515af6-80ed-41b5-8b95-e0ed82bab8b8",
   "metadata": {},
   "outputs": [
    {
     "name": "stdout",
     "output_type": "stream",
     "text": [
      "January\n",
      "February\n",
      "March\n",
      "April: my birthday\n",
      "May\n",
      "June\n",
      "July\n",
      "August\n",
      "September\n",
      "October\n",
      "November\n",
      "December\n"
     ]
    }
   ],
   "source": [
    "#2nd answer Explain why your tree structure is what it is. For example: \n",
    "#indicate which parts of the tree are repos, which are local folders, which are files, and what lives under each folder\n",
    "# The tree structure is the files which are in the documents; local folders is csci_1070 ; the repo is chetan_csci_1070. \n",
    "\n",
    "\n",
    "\n",
    "#3rd answer is Write a Python expression to iterate over the following dictionary:\n",
    "# Have a conditional logic to print \"my birthday\" if the month printed is your birth month. \n",
    "months = [\"January\", \"February\", \"March\", \"April\", \"May\", \"June\", \"July\", \"August\", \"September\", \"October\", \"November\", \"December\"]\n",
    "\n",
    "for month in months:\n",
    "    if month == \"April\":\n",
    "        print(f\"{month}: my birthday\")\n",
    "    else:\n",
    "        print(month)\n"
   ]
  },
  {
   "cell_type": "code",
   "execution_count": null,
   "id": "4b4e70b5-4a9e-4a63-8323-c11c767bca51",
   "metadata": {},
   "outputs": [],
   "source": []
  },
  {
   "cell_type": "code",
   "execution_count": null,
   "id": "39282582-9dfe-4e6d-afc2-6ce314fbfb95",
   "metadata": {},
   "outputs": [],
   "source": []
  }
 ],
 "metadata": {
  "kernelspec": {
   "display_name": "Python 3 (ipykernel)",
   "language": "python",
   "name": "python3"
  },
  "language_info": {
   "codemirror_mode": {
    "name": "ipython",
    "version": 3
   },
   "file_extension": ".py",
   "mimetype": "text/x-python",
   "name": "python",
   "nbconvert_exporter": "python",
   "pygments_lexer": "ipython3",
   "version": "3.12.4"
  }
 },
 "nbformat": 4,
 "nbformat_minor": 5
}
