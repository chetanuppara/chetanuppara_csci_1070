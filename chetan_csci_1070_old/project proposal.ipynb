{
 "cells": [
  {
   "cell_type": "code",
   "execution_count": 2,
   "id": "aa5b0f4d-4139-4914-9374-6613f4a9c3d5",
   "metadata": {},
   "outputs": [],
   "source": [
    "#1 - I am working alone on this project due to the work load being less and I can work on it on my own time. \n"
   ]
  },
  {
   "cell_type": "code",
   "execution_count": 4,
   "id": "73c73a06-e4a2-47b9-a679-2add902cb004",
   "metadata": {},
   "outputs": [],
   "source": [
    "#2 - I am using a data set called \"Diamonds\" (https://www.kaggle.com/datasets/shivam2503/diamonds) where Data describes 54000 diamonds with some properties and the goal is to predict the price \n"
   ]
  },
  {
   "cell_type": "code",
   "execution_count": 6,
   "id": "0cc61abb-d6d6-4c1e-9a66-565e3b7d7ada",
   "metadata": {},
   "outputs": [],
   "source": [
    "#3 - #Null data set: for my \"Diamonds dataset\" where Data set has a correlation where the clarity, carrots, weight, and quality of the diamond can increase the value of the diamond\n",
    "#Alternative data set: for my \"diamonds dataset\" where the data set does not correlate between total depth percentage and the price of the diamonds\n"
   ]
  },
  {
   "cell_type": "code",
   "execution_count": null,
   "id": "0aae6b3e-0c0d-4b93-bf5c-219858a80f33",
   "metadata": {},
   "outputs": [],
   "source": [
    "#4 - I will be using the binning method(a method of grouping numerical values into a values where I can analyze it into a values small enough for me to group it into bins, or buckets ;and the nultiple variable regression for my final project"
   ]
  }
 ],
 "metadata": {
  "kernelspec": {
   "display_name": "Python 3 (ipykernel)",
   "language": "python",
   "name": "python3"
  },
  "language_info": {
   "codemirror_mode": {
    "name": "ipython",
    "version": 3
   },
   "file_extension": ".py",
   "mimetype": "text/x-python",
   "name": "python",
   "nbconvert_exporter": "python",
   "pygments_lexer": "ipython3",
   "version": "3.12.4"
  }
 },
 "nbformat": 4,
 "nbformat_minor": 5
}
