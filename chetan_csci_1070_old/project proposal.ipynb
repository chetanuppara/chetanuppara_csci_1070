{
 "cells": [
  {
   "cell_type": "code",
   "execution_count": 2,
   "id": "8d8392c1-c5f4-454c-b96f-a1da7db2cca0",
   "metadata": {},
   "outputs": [],
   "source": [
    "#1 - I am working alone on this project due to the work load being less and I can work on it on my own time. "
   ]
  },
  {
   "cell_type": "code",
   "execution_count": 4,
   "id": "8e4c1298-33b1-4919-baab-82207edd7117",
   "metadata": {},
   "outputs": [],
   "source": [
    "#2 - I am using a data set called \"Diamonds\" (https://www.kaggle.com/datasets/shivam2503/diamonds) where Data describes 54000 diamonds with some properties and the goal is to predict the price "
   ]
  },
  {
   "cell_type": "code",
   "execution_count": 6,
   "id": "458c6b20-ebe8-4890-b486-a9ed1a969f38",
   "metadata": {},
   "outputs": [],
   "source": [
    "#3 - \n",
    "#Null data set: for my \"Diamonds dataset\" where Data set has a correlation where the clarity, carrots, weight, and quality of the diamond can increase the value of the diamond\n",
    "#Alternative data set: for my \"diamonds dataset\" where the data set does not correlate between total depth percentage and the price of the diamonds"
   ]
  },
  {
   "cell_type": "code",
   "execution_count": null,
   "id": "9254073c-75b5-4449-aa6b-c569dc91b626",
   "metadata": {},
   "outputs": [],
   "source": [
    "#4 - The clustering algorithm( this is to later it into a KNN problem) , and multivariable regression are all I will be using as my model for this data set "
   ]
  }
 ],
 "metadata": {
  "kernelspec": {
   "display_name": "Python 3 (ipykernel)",
   "language": "python",
   "name": "python3"
  },
  "language_info": {
   "codemirror_mode": {
    "name": "ipython",
    "version": 3
   },
   "file_extension": ".py",
   "mimetype": "text/x-python",
   "name": "python",
   "nbconvert_exporter": "python",
   "pygments_lexer": "ipython3",
   "version": "3.12.4"
  }
 },
 "nbformat": 4,
 "nbformat_minor": 5
}
