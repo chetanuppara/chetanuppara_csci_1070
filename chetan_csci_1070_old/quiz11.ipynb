{
 "cells": [
  {
   "cell_type": "code",
   "execution_count": 15,
   "id": "602d8929-bfb5-4963-8adb-121f4fb2f13f",
   "metadata": {},
   "outputs": [],
   "source": [
    "from typing import List"
   ]
  },
  {
   "cell_type": "code",
   "execution_count": 16,
   "id": "05678b21-d722-46f8-b561-48882e9fc8ed",
   "metadata": {},
   "outputs": [
    {
     "name": "stdout",
     "output_type": "stream",
     "text": [
      "['c']\n"
     ]
    }
   ],
   "source": [
    "def filter_non_numeric(values: List) -> List:\n",
    "    non_numeric = []\n",
    "    for x in values:\n",
    "        # Checks if x is not int or float\n",
    "        if not isinstance(x, (int, float)):\n",
    "            non_numeric += x  # this Adds non-numeric value to the list thats already given\n",
    "    return non_numeric\n",
    "\n",
    "# Example\n",
    "a = [1, 2, 'b' ,'c', 7.6]\n",
    "print(filter_non_numeric(a))"
   ]
  },
  {
   "cell_type": "code",
   "execution_count": 17,
   "id": "8d4de509-4d91-4d24-af45-f1733d78c0d4",
   "metadata": {},
   "outputs": [
    {
     "name": "stdout",
     "output_type": "stream",
     "text": [
      "[1, 2, (3, 'fizz'), 4, (5, 'buzz'), (6, 'fizz'), 7, 8, (9, 'fizz'), (10, 'buzz'), 11, (12, 'fizz'), 13, 14, (15, 'fizzbuzz')]\n"
     ]
    }
   ],
   "source": [
    "def fizzbuzz(n: int = 100) -> List:\n",
    "    final_results = []  #List that stores the final input \n",
    "    \n",
    "    for i in range(1, n + 1):\n",
    "    \n",
    "        if i % 3 == 0 and i % 5 == 0:\n",
    "            final_results.append((i, 'fizzbuzz'))\n",
    "    \n",
    "        elif i % 3 == 0:\n",
    "            final_results.append((i, 'fizz'))\n",
    "    \n",
    "        elif i % 5 == 0:\n",
    "            final_results.append((i, 'buzz'))\n",
    "    \n",
    "        else:\n",
    "            final_results.append(i)\n",
    "    \n",
    "    return final_results\n",
    "\n",
    "#Example\n",
    "print(fizzbuzz(15))\n"
   ]
  },
  {
   "cell_type": "code",
   "execution_count": null,
   "id": "0a304efd-b492-4298-84e6-8a8717eb3784",
   "metadata": {},
   "outputs": [],
   "source": []
  }
 ],
 "metadata": {
  "kernelspec": {
   "display_name": "Python 3 (ipykernel)",
   "language": "python",
   "name": "python3"
  },
  "language_info": {
   "codemirror_mode": {
    "name": "ipython",
    "version": 3
   },
   "file_extension": ".py",
   "mimetype": "text/x-python",
   "name": "python",
   "nbconvert_exporter": "python",
   "pygments_lexer": "ipython3",
   "version": "3.12.4"
  }
 },
 "nbformat": 4,
 "nbformat_minor": 5
}
