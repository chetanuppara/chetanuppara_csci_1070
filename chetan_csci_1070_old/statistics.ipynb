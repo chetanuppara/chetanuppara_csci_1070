{
 "cells": [
  {
   "cell_type": "code",
   "execution_count": 3,
   "id": "3b395846-1ed4-4256-aa5c-35ff3cf7127d",
   "metadata": {},
   "outputs": [],
   "source": [
    "# scales of measurement \n",
    "# nominal: categories that do not have a natural order \n",
    "# ordinal: categories where order matters but the difference between them is neither clear not even \n",
    "# interval: There is order and the difference between two values is meaningful \n",
    "# ratio: The same interval except it has a concept of 0. There are no negative numbers "
   ]
  },
  {
   "cell_type": "code",
   "execution_count": 11,
   "id": "0946e7bc-3684-4f67-a991-aa99c426a2fc",
   "metadata": {},
   "outputs": [
    {
     "data": {
      "text/html": [
       "<div>\n",
       "<style scoped>\n",
       "    .dataframe tbody tr th:only-of-type {\n",
       "        vertical-align: middle;\n",
       "    }\n",
       "\n",
       "    .dataframe tbody tr th {\n",
       "        vertical-align: top;\n",
       "    }\n",
       "\n",
       "    .dataframe thead th {\n",
       "        text-align: right;\n",
       "    }\n",
       "</style>\n",
       "<table border=\"1\" class=\"dataframe\">\n",
       "  <thead>\n",
       "    <tr style=\"text-align: right;\">\n",
       "      <th></th>\n",
       "      <th>color</th>\n",
       "      <th>size</th>\n",
       "      <th>price</th>\n",
       "      <th>type</th>\n",
       "    </tr>\n",
       "  </thead>\n",
       "  <tbody>\n",
       "    <tr>\n",
       "      <th>0</th>\n",
       "      <td>blue</td>\n",
       "      <td>S</td>\n",
       "      <td>20</td>\n",
       "      <td>lemon shirt</td>\n",
       "    </tr>\n",
       "    <tr>\n",
       "      <th>1</th>\n",
       "      <td>blue</td>\n",
       "      <td>M</td>\n",
       "      <td>50</td>\n",
       "      <td>jeans</td>\n",
       "    </tr>\n",
       "    <tr>\n",
       "      <th>2</th>\n",
       "      <td>beige</td>\n",
       "      <td>M</td>\n",
       "      <td>7</td>\n",
       "      <td>bucket hat</td>\n",
       "    </tr>\n",
       "  </tbody>\n",
       "</table>\n",
       "</div>"
      ],
      "text/plain": [
       "   color size  price         type\n",
       "0   blue    S     20  lemon shirt\n",
       "1   blue    M     50        jeans\n",
       "2  beige    M      7   bucket hat"
      ]
     },
     "execution_count": 11,
     "metadata": {},
     "output_type": "execute_result"
    }
   ],
   "source": [
    "import pandas as pd \n",
    "df_clothes = pd.DataFrame(data = [['blue','S', 20,'lemon shirt'],\n",
    "                                  ['blue','M', 50,'jeans'],\n",
    "                                   ['beige','M',7 , 'bucket hat']])\n",
    "df_clothes.columns = ['color','size','price','type']\n",
    "df_clothes"
   ]
  },
  {
   "cell_type": "code",
   "execution_count": null,
   "id": "ef5625ea-ecb4-4808-b79b-1e982ea18a3b",
   "metadata": {},
   "outputs": [],
   "source": [
    "#very good for nominal values \n",
    "# where we want a number so it process faster \n",
    "# but the number doesnt mean anything\n",
    "from sklearn.preprocessing import LabelEncoder\n",
    "class_labels = LabelEncoder()\n",
    "\n",
    "df_clothes['types'] = class_labels.fit_transform(df_"
   ]
  }
 ],
 "metadata": {
  "kernelspec": {
   "display_name": "Python 3 (ipykernel)",
   "language": "python",
   "name": "python3"
  },
  "language_info": {
   "codemirror_mode": {
    "name": "ipython",
    "version": 3
   },
   "file_extension": ".py",
   "mimetype": "text/x-python",
   "name": "python",
   "nbconvert_exporter": "python",
   "pygments_lexer": "ipython3",
   "version": "3.12.4"
  }
 },
 "nbformat": 4,
 "nbformat_minor": 5
}
