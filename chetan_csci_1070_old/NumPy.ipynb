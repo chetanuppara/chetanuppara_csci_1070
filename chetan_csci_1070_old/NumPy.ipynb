{
 "cells": [
  {
   "cell_type": "code",
   "execution_count": 2,
   "id": "bb37dc55-5c8b-4c7c-b137-0320017c8ccf",
   "metadata": {},
   "outputs": [],
   "source": [
    "#NumPy is all about arrays "
   ]
  },
  {
   "cell_type": "code",
   "execution_count": 4,
   "id": "0f48d128-323e-4acf-9133-51db94342843",
   "metadata": {},
   "outputs": [],
   "source": [
    "#arrays are a list of numbers ; scalars, vectors, and matrix are a part of them( only the dimentions change between the 3)\n"
   ]
  },
  {
   "cell_type": "code",
   "execution_count": 6,
   "id": "72477668-e811-441b-b3a5-486317121cb1",
   "metadata": {},
   "outputs": [
    {
     "name": "stdout",
     "output_type": "stream",
     "text": [
      "2 (2, 3) float32\n"
     ]
    }
   ],
   "source": [
    "#arrays can have any number of dimentions, including zero( a scalar)\n",
    "#arrays are typed\n",
    "#arrays are dense. each element of an array exists and has the same type \n",
    "#arrys are faster than python lists( consume less memory) \n",
    "# can only combine arrays of the same shape \n",
    "import numpy as np \n",
    "a = np.array([[1,2,3],[4,5,6]],dtype=np.float32)\n",
    "print(a.ndim, a.shape, a.dtype)"
   ]
  },
  {
   "cell_type": "code",
   "execution_count": 10,
   "id": "67089c19-5f92-47a3-80c3-a2e110c76fc8",
   "metadata": {},
   "outputs": [
    {
     "data": {
      "text/plain": [
       "array([[[[[[1, 2, 3],\n",
       "           [4, 5, 6]],\n",
       "\n",
       "          [[1, 2, 3],\n",
       "           [4, 5, 6]]]]]])"
      ]
     },
     "execution_count": 10,
     "metadata": {},
     "output_type": "execute_result"
    }
   ],
   "source": [
    "# 6 dimentional array\n",
    "c = np.array([[[1,2,3],[4,5,6]],[[1,2,3],[4,5,6]]], ndmin=6)\n",
    "c"
   ]
  },
  {
   "cell_type": "code",
   "execution_count": 12,
   "id": "0df417b2-cc2e-4096-85f6-af5246321be2",
   "metadata": {},
   "outputs": [
    {
     "data": {
      "text/plain": [
       "array([[1., 2.],\n",
       "       [3., 4.],\n",
       "       [5., 6.]], dtype=float32)"
      ]
     },
     "execution_count": 12,
     "metadata": {},
     "output_type": "execute_result"
    }
   ],
   "source": [
    "a = a.reshape(3,2)\n",
    "a"
   ]
  },
  {
   "cell_type": "code",
   "execution_count": 14,
   "id": "122e6ee4-8b55-4a87-8fd5-8846d226af66",
   "metadata": {},
   "outputs": [
    {
     "data": {
      "text/plain": [
       "array([1., 2., 3., 4., 5., 6.], dtype=float32)"
      ]
     },
     "execution_count": 14,
     "metadata": {},
     "output_type": "execute_result"
    }
   ],
   "source": [
    "a = a.ravel()\n",
    "a"
   ]
  },
  {
   "cell_type": "code",
   "execution_count": null,
   "id": "1a6dd5d5-347f-4e52-b831-33443a1d6971",
   "metadata": {},
   "outputs": [],
   "source": []
  }
 ],
 "metadata": {
  "kernelspec": {
   "display_name": "Python 3 (ipykernel)",
   "language": "python",
   "name": "python3"
  },
  "language_info": {
   "codemirror_mode": {
    "name": "ipython",
    "version": 3
   },
   "file_extension": ".py",
   "mimetype": "text/x-python",
   "name": "python",
   "nbconvert_exporter": "python",
   "pygments_lexer": "ipython3",
   "version": "3.12.4"
  }
 },
 "nbformat": 4,
 "nbformat_minor": 5
}
