{
 "cells": [
  {
   "cell_type": "code",
   "execution_count": 5,
   "id": "bd001567-c41f-4631-b7e7-ebbe9bd560cd",
   "metadata": {},
   "outputs": [
    {
     "ename": "NameError",
     "evalue": "name 'a' is not defined",
     "output_type": "error",
     "traceback": [
      "\u001b[0;31m---------------------------------------------------------------------------\u001b[0m",
      "\u001b[0;31mNameError\u001b[0m                                 Traceback (most recent call last)",
      "Cell \u001b[0;32mIn[5], line 6\u001b[0m\n\u001b[1;32m      1\u001b[0m \u001b[38;5;66;03m# loops are flow control \u001b[39;00m\n\u001b[1;32m      2\u001b[0m \u001b[38;5;66;03m# through the application\u001b[39;00m\n\u001b[1;32m      3\u001b[0m \u001b[38;5;66;03m# if ... (elif ... else)\u001b[39;00m\n\u001b[1;32m      4\u001b[0m \u001b[38;5;66;03m#if and else are optimal. depends on what you're trying to do\u001b[39;00m\n\u001b[1;32m      5\u001b[0m \u001b[38;5;66;03m#is comparing whereas = id setting something equal to something else( assigning a variable) \u001b[39;00m\n\u001b[0;32m----> 6\u001b[0m \u001b[38;5;28;01mif\u001b[39;00m a \u001b[38;5;241m==\u001b[39m b:\n\u001b[1;32m      7\u001b[0m     \u001b[38;5;28mprint\u001b[39m(\u001b[38;5;124m\"\u001b[39m\u001b[38;5;124mthey are equal\u001b[39m\u001b[38;5;124m\"\u001b[39m)\n",
      "\u001b[0;31mNameError\u001b[0m: name 'a' is not defined"
     ]
    }
   ],
   "source": [
    "# loops are flow control \n",
    "# through the application\n",
    "# if ... (elif ... else)\n",
    "#if and else are optimal. depends on what you're trying to do\n",
    "#is comparing whereas = id setting something equal to something else( assigning a variable) \n",
    "if a == b:\n",
    "    print(\"they are equal\")"
   ]
  },
  {
   "cell_type": "code",
   "execution_count": 14,
   "id": "4c2c8a77-e76d-4f4d-95af-8f6f8d1e04a6",
   "metadata": {},
   "outputs": [
    {
     "ename": "SyntaxError",
     "evalue": "expected ':' (2354504544.py, line 4)",
     "output_type": "error",
     "traceback": [
      "\u001b[0;36m  Cell \u001b[0;32mIn[14], line 4\u001b[0;36m\u001b[0m\n\u001b[0;31m    while x <10\u001b[0m\n\u001b[0m                ^\u001b[0m\n\u001b[0;31mSyntaxError\u001b[0m\u001b[0;31m:\u001b[0m expected ':'\n"
     ]
    }
   ],
   "source": [
    "# create a scenario where x starts at 3 and is incremented by 1 \n",
    "#you print the value of x while x is less then 10\n",
    "x = 3 \n",
    "while x <10 \n",
    "print(x)"
   ]
  },
  {
   "cell_type": "code",
   "execution_count": null,
   "id": "27b3c7c5-616a-45f6-b64e-7d264d4fe541",
   "metadata": {},
   "outputs": [],
   "source": []
  },
  {
   "cell_type": "code",
   "execution_count": null,
   "id": "5a0f43b5-427b-4bed-923d-cf196a8ba61e",
   "metadata": {},
   "outputs": [],
   "source": []
  }
 ],
 "metadata": {
  "kernelspec": {
   "display_name": "Python 3 (ipykernel)",
   "language": "python",
   "name": "python3"
  },
  "language_info": {
   "codemirror_mode": {
    "name": "ipython",
    "version": 3
   },
   "file_extension": ".py",
   "mimetype": "text/x-python",
   "name": "python",
   "nbconvert_exporter": "python",
   "pygments_lexer": "ipython3",
   "version": "3.12.4"
  }
 },
 "nbformat": 4,
 "nbformat_minor": 5
}
