{
 "cells": [
  {
   "cell_type": "code",
   "execution_count": 37,
   "id": "bfc4eec8-d156-4e1c-b67d-eb025fae7455",
   "metadata": {},
   "outputs": [],
   "source": [
    "import numpy as np \n",
    "import pandas as pd \n",
    "\n",
    "# modules for statistics \n",
    "import math \n",
    "import statistics \n",
    "from scipy import stats "
   ]
  },
  {
   "cell_type": "code",
   "execution_count": 25,
   "id": "655f90a8-aa56-4177-a0de-2b4ce5d54e24",
   "metadata": {},
   "outputs": [
    {
     "ename": "SyntaxError",
     "evalue": "invalid syntax (2553204213.py, line 2)",
     "output_type": "error",
     "traceback": [
      "\u001b[0;36m  Cell \u001b[0;32mIn[25], line 2\u001b[0;36m\u001b[0m\n\u001b[0;31m    mean = average, balance point = sum of all the numbers/ total number of values = arithmetic mean\u001b[0m\n\u001b[0m                            ^\u001b[0m\n\u001b[0;31mSyntaxError\u001b[0m\u001b[0;31m:\u001b[0m invalid syntax\n"
     ]
    }
   ],
   "source": [
    "# mean, median, mode, and central tendency \n",
    "mean = average, balance point = sum of all the numbers/ total number of values = arithmetic mean \n",
    "median = middle number, when the number are put in an order if there are 2 middle numbers find the average of the 2 numbers to find the median. \n",
    "mode = number that occurs the most often \n",
    "central tendency = a single value that attempts to describe the whole set of data. This number represents the middle or center of its distribution."
   ]
  },
  {
   "cell_type": "code",
   "execution_count": 53,
   "id": "70e020c3-14b2-4918-a7ab-6b573993b33a",
   "metadata": {},
   "outputs": [
    {
     "data": {
      "text/html": [
       "<div>\n",
       "<style scoped>\n",
       "    .dataframe tbody tr th:only-of-type {\n",
       "        vertical-align: middle;\n",
       "    }\n",
       "\n",
       "    .dataframe tbody tr th {\n",
       "        vertical-align: top;\n",
       "    }\n",
       "\n",
       "    .dataframe thead th {\n",
       "        text-align: right;\n",
       "    }\n",
       "</style>\n",
       "<table border=\"1\" class=\"dataframe\">\n",
       "  <thead>\n",
       "    <tr style=\"text-align: right;\">\n",
       "      <th></th>\n",
       "      <th>id</th>\n",
       "      <th>name</th>\n",
       "      <th>host_id</th>\n",
       "      <th>host_name</th>\n",
       "      <th>neighbourhood_group</th>\n",
       "      <th>neighbourhood</th>\n",
       "      <th>latitude</th>\n",
       "      <th>longitude</th>\n",
       "      <th>room_type</th>\n",
       "      <th>price</th>\n",
       "      <th>minimum_nights</th>\n",
       "      <th>number_of_reviews</th>\n",
       "      <th>last_review</th>\n",
       "      <th>reviews_per_month</th>\n",
       "      <th>calculated_host_listings_count</th>\n",
       "      <th>availability_365</th>\n",
       "    </tr>\n",
       "  </thead>\n",
       "  <tbody>\n",
       "    <tr>\n",
       "      <th>2791</th>\n",
       "      <td>48283996</td>\n",
       "      <td>Magical Island</td>\n",
       "      <td>17994012</td>\n",
       "      <td>Ronald</td>\n",
       "      <td>Belize</td>\n",
       "      <td>Belize Islands</td>\n",
       "      <td>17.945690</td>\n",
       "      <td>-87.944620</td>\n",
       "      <td>Entire home/apt</td>\n",
       "      <td>1054</td>\n",
       "      <td>3</td>\n",
       "      <td>0</td>\n",
       "      <td>NaN</td>\n",
       "      <td>NaN</td>\n",
       "      <td>2</td>\n",
       "      <td>347</td>\n",
       "    </tr>\n",
       "    <tr>\n",
       "      <th>2792</th>\n",
       "      <td>48287613</td>\n",
       "      <td>The Luxury Suite - Corozal, Bz- 3Bdr/2bthr CASA1</td>\n",
       "      <td>375769845</td>\n",
       "      <td>Michael</td>\n",
       "      <td>Corozal</td>\n",
       "      <td>Corozal</td>\n",
       "      <td>18.374630</td>\n",
       "      <td>-88.400190</td>\n",
       "      <td>Entire home/apt</td>\n",
       "      <td>401</td>\n",
       "      <td>3</td>\n",
       "      <td>0</td>\n",
       "      <td>NaN</td>\n",
       "      <td>NaN</td>\n",
       "      <td>2</td>\n",
       "      <td>302</td>\n",
       "    </tr>\n",
       "    <tr>\n",
       "      <th>2793</th>\n",
       "      <td>48296096</td>\n",
       "      <td>Lagoon front apartment w/shared pool -  two mi...</td>\n",
       "      <td>76414486</td>\n",
       "      <td>Vacasa Belize</td>\n",
       "      <td>Belize</td>\n",
       "      <td>Belize Islands</td>\n",
       "      <td>17.934580</td>\n",
       "      <td>-87.955220</td>\n",
       "      <td>Entire home/apt</td>\n",
       "      <td>252</td>\n",
       "      <td>1</td>\n",
       "      <td>0</td>\n",
       "      <td>NaN</td>\n",
       "      <td>NaN</td>\n",
       "      <td>204</td>\n",
       "      <td>364</td>\n",
       "    </tr>\n",
       "    <tr>\n",
       "      <th>2794</th>\n",
       "      <td>48296978</td>\n",
       "      <td>Beachfront Poolside Condo</td>\n",
       "      <td>15308338</td>\n",
       "      <td>Alexandra</td>\n",
       "      <td>Belize</td>\n",
       "      <td>Belize Islands</td>\n",
       "      <td>17.930010</td>\n",
       "      <td>-87.957120</td>\n",
       "      <td>Entire home/apt</td>\n",
       "      <td>242</td>\n",
       "      <td>3</td>\n",
       "      <td>0</td>\n",
       "      <td>NaN</td>\n",
       "      <td>NaN</td>\n",
       "      <td>4</td>\n",
       "      <td>364</td>\n",
       "    </tr>\n",
       "    <tr>\n",
       "      <th>2795</th>\n",
       "      <td>48332221</td>\n",
       "      <td>Standard Room - San Ignacio Resort Hotel</td>\n",
       "      <td>60399527</td>\n",
       "      <td>San Ignacio</td>\n",
       "      <td>Cayo</td>\n",
       "      <td>Cayo</td>\n",
       "      <td>17.154127</td>\n",
       "      <td>-89.069689</td>\n",
       "      <td>Private room</td>\n",
       "      <td>226</td>\n",
       "      <td>1</td>\n",
       "      <td>0</td>\n",
       "      <td>NaN</td>\n",
       "      <td>NaN</td>\n",
       "      <td>5</td>\n",
       "      <td>365</td>\n",
       "    </tr>\n",
       "  </tbody>\n",
       "</table>\n",
       "</div>"
      ],
      "text/plain": [
       "            id                                               name    host_id  \\\n",
       "2791  48283996                                     Magical Island   17994012   \n",
       "2792  48287613   The Luxury Suite - Corozal, Bz- 3Bdr/2bthr CASA1  375769845   \n",
       "2793  48296096  Lagoon front apartment w/shared pool -  two mi...   76414486   \n",
       "2794  48296978                          Beachfront Poolside Condo   15308338   \n",
       "2795  48332221           Standard Room - San Ignacio Resort Hotel   60399527   \n",
       "\n",
       "          host_name neighbourhood_group   neighbourhood   latitude  longitude  \\\n",
       "2791         Ronald              Belize  Belize Islands  17.945690 -87.944620   \n",
       "2792        Michael             Corozal         Corozal  18.374630 -88.400190   \n",
       "2793  Vacasa Belize              Belize  Belize Islands  17.934580 -87.955220   \n",
       "2794      Alexandra              Belize  Belize Islands  17.930010 -87.957120   \n",
       "2795    San Ignacio                Cayo            Cayo  17.154127 -89.069689   \n",
       "\n",
       "            room_type  price  minimum_nights  number_of_reviews last_review  \\\n",
       "2791  Entire home/apt   1054               3                  0         NaN   \n",
       "2792  Entire home/apt    401               3                  0         NaN   \n",
       "2793  Entire home/apt    252               1                  0         NaN   \n",
       "2794  Entire home/apt    242               3                  0         NaN   \n",
       "2795     Private room    226               1                  0         NaN   \n",
       "\n",
       "      reviews_per_month  calculated_host_listings_count  availability_365  \n",
       "2791                NaN                               2               347  \n",
       "2792                NaN                               2               302  \n",
       "2793                NaN                             204               364  \n",
       "2794                NaN                               4               364  \n",
       "2795                NaN                               5               365  "
      ]
     },
     "execution_count": 53,
     "metadata": {},
     "output_type": "execute_result"
    }
   ],
   "source": [
    "belize_listings_path = \"belize_airbnb_listings.csv\"\n",
    "belize_df = pd.read_csv(belize_listings_path)\n",
    "\n",
    "belize_df.tail()"
   ]
  },
  {
   "cell_type": "code",
   "execution_count": 59,
   "id": "0cff72db-de9f-42ee-8831-e7e75f550b46",
   "metadata": {},
   "outputs": [
    {
     "data": {
      "text/plain": [
       "price                357.102289\n",
       "minimum_nights         2.263948\n",
       "number_of_reviews     14.453505\n",
       "dtype: float64"
      ]
     },
     "execution_count": 59,
     "metadata": {},
     "output_type": "execute_result"
    }
   ],
   "source": [
    "# get mean of the prive, minimum_nights, and number_of_reviews\n",
    "belize_df[[\"price\", \"minimum_nights\", \"number_of_reviews\"]].mean()"
   ]
  },
  {
   "cell_type": "code",
   "execution_count": 35,
   "id": "e20d565e-c013-4e32-b36d-c1c2595bdf23",
   "metadata": {},
   "outputs": [
    {
     "ename": "NameError",
     "evalue": "name 'belize_df' is not defined",
     "output_type": "error",
     "traceback": [
      "\u001b[0;31m---------------------------------------------------------------------------\u001b[0m",
      "\u001b[0;31mNameError\u001b[0m                                 Traceback (most recent call last)",
      "Cell \u001b[0;32mIn[35], line 2\u001b[0m\n\u001b[1;32m      1\u001b[0m \u001b[38;5;66;03m# get median of the prive, minimum_nights, and number_of_reviews\u001b[39;00m\n\u001b[0;32m----> 2\u001b[0m belize_df[[\u001b[38;5;124m\"\u001b[39m\u001b[38;5;124mprice\u001b[39m\u001b[38;5;124m\"\u001b[39m, \u001b[38;5;124m\"\u001b[39m\u001b[38;5;124mminimum_nights\u001b[39m\u001b[38;5;124m\"\u001b[39m, \u001b[38;5;124m\"\u001b[39m\u001b[38;5;124mnumber of reviews\u001b[39m\u001b[38;5;124m\"\u001b[39m]]\u001b[38;5;241m.\u001b[39mmedian()\n",
      "\u001b[0;31mNameError\u001b[0m: name 'belize_df' is not defined"
     ]
    }
   ],
   "source": [
    "# get median of the prive, minimum_nights, and number_of_reviews\n",
    "belize_df[[\"price\", \"minimum_nights\", \"number_of_reviews\"]].median()"
   ]
  },
  {
   "cell_type": "code",
   "execution_count": 61,
   "id": "741233d8-272e-405c-8d79-9961c8ba10eb",
   "metadata": {},
   "outputs": [
    {
     "data": {
      "text/html": [
       "<div>\n",
       "<style scoped>\n",
       "    .dataframe tbody tr th:only-of-type {\n",
       "        vertical-align: middle;\n",
       "    }\n",
       "\n",
       "    .dataframe tbody tr th {\n",
       "        vertical-align: top;\n",
       "    }\n",
       "\n",
       "    .dataframe thead th {\n",
       "        text-align: right;\n",
       "    }\n",
       "</style>\n",
       "<table border=\"1\" class=\"dataframe\">\n",
       "  <thead>\n",
       "    <tr style=\"text-align: right;\">\n",
       "      <th></th>\n",
       "      <th>price</th>\n",
       "      <th>minimum_nights</th>\n",
       "      <th>number_of_reviews</th>\n",
       "    </tr>\n",
       "  </thead>\n",
       "  <tbody>\n",
       "    <tr>\n",
       "      <th>0</th>\n",
       "      <td>151</td>\n",
       "      <td>1.0</td>\n",
       "      <td>0.0</td>\n",
       "    </tr>\n",
       "    <tr>\n",
       "      <th>1</th>\n",
       "      <td>252</td>\n",
       "      <td>NaN</td>\n",
       "      <td>NaN</td>\n",
       "    </tr>\n",
       "  </tbody>\n",
       "</table>\n",
       "</div>"
      ],
      "text/plain": [
       "   price  minimum_nights  number_of_reviews\n",
       "0    151             1.0                0.0\n",
       "1    252             NaN                NaN"
      ]
     },
     "execution_count": 61,
     "metadata": {},
     "output_type": "execute_result"
    }
   ],
   "source": [
    "belize_df[[\"price\", \"minimum_nights\", \"number_of_reviews\"]].mode()"
   ]
  },
  {
   "cell_type": "code",
   "execution_count": null,
   "id": "6d4abf66-dbac-458c-b883-c31b2d8a07a3",
   "metadata": {},
   "outputs": [],
   "source": [
    "# varience \n",
    "def varience( data, ddof=0):\n",
    "    n = len(data)\n",
    "    mean = sum(data)/n\n",
    "    varince = "
   ]
  },
  {
   "cell_type": "code",
   "execution_count": 63,
   "id": "f448476b-5426-49f1-9508-4c8b281faf98",
   "metadata": {},
   "outputs": [
    {
     "ename": "SyntaxError",
     "evalue": "invalid syntax (2163289624.py, line 3)",
     "output_type": "error",
     "traceback": [
      "\u001b[0;36m  Cell \u001b[0;32mIn[63], line 3\u001b[0;36m\u001b[0m\n\u001b[0;31m    standard deviation is the square root of variance.\u001b[0m\n\u001b[0m             ^\u001b[0m\n\u001b[0;31mSyntaxError\u001b[0m\u001b[0;31m:\u001b[0m invalid syntax\n"
     ]
    }
   ],
   "source": [
    "# standard deviation\n",
    "\n",
    "standard deviation is the square root of variance. "
   ]
  },
  {
   "cell_type": "code",
   "execution_count": null,
   "id": "db813b0a-4588-4993-97fd-0f514d1d7862",
   "metadata": {},
   "outputs": [],
   "source": [
    "# covariance and correlation \n",
    " covariance is to correlation what variance is to standard deviation \n",
    "covariance tells us how much and to what extent two random variables chnage together. How much will one variable change as per "
   ]
  }
 ],
 "metadata": {
  "kernelspec": {
   "display_name": "Python 3 (ipykernel)",
   "language": "python",
   "name": "python3"
  },
  "language_info": {
   "codemirror_mode": {
    "name": "ipython",
    "version": 3
   },
   "file_extension": ".py",
   "mimetype": "text/x-python",
   "name": "python",
   "nbconvert_exporter": "python",
   "pygments_lexer": "ipython3",
   "version": "3.12.4"
  }
 },
 "nbformat": 4,
 "nbformat_minor": 5
}
